{
 "cells": [
  {
   "cell_type": "markdown",
   "metadata": {},
   "source": [
    "# 導入"
   ]
  },
  {
   "cell_type": "markdown",
   "metadata": {},
   "source": [
    "キュービットは存在しているだけでは十分ではありません。キュービットを操作することが必要になります。キュービットに対するすべての操作は、量子ゲート操作の基本セットに分解することができます。 \n",
    "\n",
    "一般的には、ハードウェアに直接実装可能なゲートは1または2キュービットに対して影響を及すことができます。ところが、我々の回路においては、より多くのキュービットに対して影響を及ぼすことができる複雑なゲートを使用したくなるケースが出てきます。幸運なことに、このことは問題ではありません。ハードウェアにより実現された1キュービット用のゲートと2キュービット用のゲートがあれば、その他の全てのゲートを構築することができるからです。\n",
    "\n",
    "この章では、まず最も基本的なゲートと、それらのゲートに関する説明と分析に使用する数学について紹介します。\n",
    "\n",
    "その後、小規模の量子ゲートに関する用途について見ていくことで章を締めくくります。例として、1ビット操作や2ビット操作を用いてトフォリゲートを組み立てる方法について見ていきます。\n",
    "\n",
    "![A Toffoli made from single- and two-qubit gates](https://s3.us-south.cloud-object-storage.appdomain.cloud/strapi/640242cc209e48a699164d98922cc60ebasic3.png)"
   ]
  },
  {
   "cell_type": "code",
   "execution_count": null,
   "metadata": {},
   "outputs": [],
   "source": []
  }
 ],
 "metadata": {
  "kernelspec": {
   "display_name": "Python 3",
   "language": "python",
   "name": "python3"
  },
  "language_info": {
   "codemirror_mode": {
    "name": "ipython",
    "version": 3
   },
   "file_extension": ".py",
   "mimetype": "text/x-python",
   "name": "python",
   "nbconvert_exporter": "python",
   "pygments_lexer": "ipython3",
   "version": "3.7.4"
  }
 },
 "nbformat": 4,
 "nbformat_minor": 2
}
