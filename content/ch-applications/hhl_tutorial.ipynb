{
 "cells": [
  {
   "cell_type": "markdown",
   "metadata": {
    "tags": [
     "remove_cell"
    ]
   },
   "source": [
    "# HHL を利用して線形方程式系を解き、Qiskit に実装する"
   ]
  },
  {
   "cell_type": "markdown",
   "metadata": {},
   "source": [
    "このチュートリアルでは、HHL アルゴリズムを紹介したあと量子回路を導出し、Qiskit を利用して実装します。HHL をどのようにシミュレーターと５量子ビットで実行するかも示します。\n",
    "\n",
    "## 内容\n",
    "1. [Introduction](#introduction)\n",
    "2. [The HHL algorithm](#hhlalg)\n",
    "    1. [Some mathematical background](#mathbackground)\n",
    "    2. [Description of the HHL](#hhldescription)\n",
    "    3. [Quantum Phase Estimation (QPE) within HHL](#qpe)\n",
    "    4. [Non-exact QPE](#qpe2)\n",
    "3. [Example 1: 4-qubit HHL](#example1)\n",
    "4. [Qiskit Implementation](#implementation)\n",
    "    1. [Running HHL on a simulator: general method](#implementationsim)\n",
    "    2. [Running HHL on a real quantum device: optimised example](#implementationdev)\n",
    "5. [Problems](#problems)\n",
    "6. [References](#references)"
   ]
  },
  {
   "cell_type": "markdown",
   "metadata": {},
   "source": [
    "## 1. はじめに <a id='introduction'></a>\n",
    "\n",
    "線形方程式系は様々な分野で、多くの実世界アプリケーションとして自然に現れます。例えば、偏微分方程式の解、金融モデルの校正（キャリブレーション)、流体シミュレーション、あるいは数値場計算などです。問題は次のように定義できます：行列　\n",
    "$A\\in\\mathbb{C}^{N\\times N}$ とベクトル $\\vec{b}\\in\\mathbb{C}^{N}$ が与えられている時、 $A\\vec{x}=\\vec{b}　$　を満足する $\\vec{x}\\in\\mathbb{C}^{N} $ を求めよ。\n",
    "\n",
    "$N=2$ の場合に以下の例を見てみましょう。\n",
    "\n",
    "$$A = \\begin{pmatrix}1 & -1/3\\\\-1/3 & 1 \\end{pmatrix},\\quad \\vec{x}=\\begin{pmatrix} x_{1}\\\\ x_{2}\\end{pmatrix}\\quad \\text{and} \\quad \\vec{b}=\\begin{pmatrix}1 \\\\ 0\\end{pmatrix}.$$\n",
    "\n",
    "この問題は以下のように $x_{1}, x_{2}\\in\\mathbb{C}$ を見つけるというものに書き換えることもできます。\n",
    "\n",
    "$$\\begin{cases}x_{1} - \\frac{x_{2}}{3} = 1 \\\\ -\\frac{x_{1}}{3} + x_{2} = 0\\end{cases}. $$\n",
    "\n",
    "線形方程式系は $A$ の行もしくは列に高々 $s$ 非ゼロ成分を持つ時に、$s$-sparse (スパース、疎行列)と呼ばれます。$N$ サイズの $s$-sparse系を古典コンピューターで解くには、共役勾配法(conjugate gradient method) を用いても $\\mathcal{ O }(Ns\\kappa\\log(1/\\epsilon))$ の実行時間が必要です <sup>[1](#conjgrad)</sup>。ここで、$\\kappa$ はシステムの条件数、$\\epsilon$ は近似の正確度です。\n",
    "\n",
    "データのローディングを実施する効果的なオラクル(Oracle)が存在し、ハミルトニアン シミュレーションとソリューションの関数の計算が可能であるという仮定のもとで、$A$ はエルミート行列である時、HHL(Harrow-Hassidim-Lloyd) は時間複雑性 $\\mathcal{ O }(\\log(N)s^{2}\\kappa^{2}/\\epsilon)$<sup>[2](#hhl)</sup> でソリューションの関数を推測するという量子アルゴリズムです。これはシステムのサイズに対して指数関数的スピードアップです。ただし、非常に重要な注意点があり、古典アルゴリズムが完全解を返すのに対して、HLL はソリューションとなるベクトルを与える関数を近似するだけです。"
   ]
  },
  {
   "cell_type": "markdown",
   "metadata": {},
   "source": [
    "## 2. HHL (Harrow-Hassidim-Lloyd) アルゴリズム<a id='hhlalg'></a>\n",
    "\n",
    "### A. いくつかの数学的背景<a id='mathbackground'></a>\n",
    "量子コンピューターを利用して線形方程式系を解く最初のステップは、問題を量子の言葉に落とし込むことです。系を再スケールすることで、$\\vec{b}$ と $\\vec{x}$ は正規化できると仮定でき、それぞれ量子状態 $|b\\rangle$ と $|x\\rangle$ にマップできます。通常、利用されるマッピングは次のようなものです。すなわち、$\\vec{b}$ (resp. $\\vec{x}$) の $i^{th}$ 成分は、量子状態 $|b\\rangle$ (resp. $|x\\rangle$) の $i^{th}$ 基底状態の振幅に対応するというものです。ここからは、再スケールされた問題にフォーカスします。\n",
    "\n",
    "$$ A|x\\rangle=|b\\rangle.$$\n",
    "\n",
    "$A$ はエルミートなので、スペクトル分解を持ちます。\n",
    "\n",
    "$$\n",
    "A=\\sum_{j=0}^{N-1}\\lambda_{j}|u_{j}\\rangle\\langle u_{j}|,\\quad \\lambda_{j}\\in\\mathbb{ R },\n",
    "$$\n",
    "\n",
    "ここで、$|u_{j}\\rangle$ は $A$ の $j^{th}$ 固有ベクトルで、固有値 はそれぞれ $\\lambda_{j}$ です。次に、逆行列です。\n",
    "\n",
    "$$\n",
    "A^{-1}=\\sum_{j=0}^{N-1}\\lambda_{j}^{-1}|u_{j}\\rangle\\langle u_{j}|,\n",
    "$$\n",
    "\n",
    "系の右側は $A$ の固有基底を用いて次のように書けます。\n",
    "$$\n",
    "|b\\rangle=\\sum_{j=0}^{N-1}b_{j}|u_{j}\\rangle,\\quad b_{j}\\in\\mathbb{ C }.\n",
    "$$\n",
    "\n",
    "HHLの目的は、次の状態でレジスターを読み込むことでアルゴリズムを終了させることを銘記してください。\n",
    "$$\n",
    "|x\\rangle=A^{-1}|b\\rangle=\\sum_{j=0}^{N-1}\\lambda_{j}^{-1}b_{j}|u_{j}\\rangle.\n",
    "$$\n",
    "量子状態について話しているので、既に暗黙的な規格化定数が入っていることに着目してください。\n",
    "\n",
    "### B. HHL アルゴリムの説明 <a id='hhldescription'></a>\n",
    "\n",
    "アルゴリズムは３つの量子レジスターを利用し、アルゴリズムの開始時点ではすべて $|0\\rangle $ にセットされます。一つのレジスター、ここでは $n_{l}$ とサブインデックスで示します、は $A$ の固有値のバイナリ表現の保管に利用されます。２つ目のレジスター、$n_{b}$、はベクトルソリューションが保管されます。ここからは $N=2^{n_{b}}$ とします。アンシラ量子ビットとして追加のレジスターがあります。追加レジスターは、個々の計算の中間段階で利用されますが、各計算の最初に $|0\\rangle $ にセットされ、個々の操作の最後には、$|0\\rangle $ 状態に戻されるため、以下の説明では省略しています。\n",
    "\n",
    "以下の手順で対応する回路のハイレベルな図形で HHL アルゴリズムのアウトラインを説明します。簡単のため、引き続く説明ではすべての計算が正確であると仮定し、正確でない場合の詳細なセクション [2.D.](#qpe2) で説明します。\n",
    "\n",
    "<img src=\"images/hhlcircuit.png\" width = \"75%\" height = \"75%\">\n",
    "\n",
    "1. データ $|b\\rangle\\in\\mathbb{ C }^{N}$ のロード。すなわち、以下の変換を実行します。\n",
    "    $$ |0\\rangle _{n_{b}} \\mapsto |b\\rangle _{n_{b}}. $$\n",
    "2. 量子位相推定(Quantum Phase Estimation - QPE) を適用します。\n",
    "\t$$\n",
    "\tU = e ^ { i A t } := \\sum _{j=0}^{N-1}e ^ { i \\lambda _ { j } t } |u_{j}\\rangle\\langle u_{j}|.\n",
    "\t$$\n",
    "\t$A$ の固有基底で表現されるレジスターの量子状態は次のようになります。\n",
    "    $$\n",
    "\t\\sum_{j=0}^{N-1} b _ { j } |\\lambda _ {j }\\rangle_{n_{l}} |u_{j}\\rangle_{n_{b}},\n",
    "\t$$\n",
    "    ここで、$|\\lambda _ {j }\\rangle_{n_{l}}$ は $\\lambda _ {j }$ の $n_{l}$ ビットバイナリ表現です。\n",
    "    \n",
    "3.  アンシラ量子ビットを追加し、$|\\lambda_{ j }\\rangle$,\n",
    "\t$$\n",
    "\t\\sum_{j=0}^{N-1} b _ { j } |\\lambda _ { j }\\rangle_{n_{l}}|u_{j}\\rangle_{n_{b}} \\left( \\sqrt { 1 - \\frac { C^{2}  } { \\lambda _ { j } ^ { 2 } } } |0\\rangle + \\frac { C } { \\lambda _ { j } } |1\\rangle \\right),\n",
    "\t$$　の条件にて回転を適用します。$C$ は規格化因子です。\n",
    "        \n",
    "4.  QPE$^{\\dagger}$ を適用します。PQE で発生しうるエラーを無視すると、次の結果になります。\n",
    "\t$$\n",
    "\t\\sum_{j=0}^{N-1} b _ { j } |0\\rangle_{n_{l}}|u_{j}\\rangle_{n_{b}} \\left( \\sqrt { 1 - \\frac {C^{2}  } { \\lambda _ { j } ^ { 2 } } } |0\\rangle + \\frac { C } { \\lambda _ { j } } |1\\rangle \\right).\n",
    "\t$$\n",
    "    \n",
    "5. 計算基底にてアンシラ量子ビットを測定します。結果が $1$ の場合、測定後のレジスターの状態は次のようになります。\n",
    "\t$$\n",
    "\t\\left( \\sqrt { \\frac { 1 } { \\sum_{j=0}^{N-1} \\left| b _ { j } \\right| ^ { 2 } / \\left| \\lambda _ { j } \\right| ^ { 2 } } } \\right) \\sum _{j=0}^{N-1} \\frac{b _ { j }}{\\lambda _ { j }} |0\\rangle_{n_{l}}|u_{j}\\rangle_{n_{b}},\n",
    "\t$$\n",
    "\t規格化因子を除き、ソリューションになっています。\n",
    "\n",
    "6. オブザーバブル $M$ を適用し、$F(x):=\\langle x|M|x\\rangle$ を計算します。\n",
    "    \n",
    "### C. HHLでの量子位相推定(QPE) について <a id='qpe'></a>\n",
    "\n",
    "量子位相推定については第３章でより詳しく説明がされています、HHLアルゴリズムではこの量子処理が要になっているので、ここで定義を再確認したいと覆います。大雑把にいうと、固有ベクトリ $|\\psi\\rangle_{m}$ と 固有値 $e^{2\\pi i\\theta}$ をもつユニタリー $U$ が与えられた場合に  $\\theta$ を求めるという量子アルゴリズムです。次のように正確に定義できます。\n",
    "\n",
    "**定義:** $U\\in\\mathbb{ C }^{2^{m}\\times 2^{m}}$ がユニタリーであり、$|\\psi\\rangle_{m}\\in\\mathbb{ C }^{2^{m}}$ がそれぞれ固有値 $e^{2\\pi i\\theta}$ を持つ固有ベクトルである時、**量子位相推定(Quantum Phase Estimation)** (省略して **QPE**) アルゴリズムは、$U$ に対応するユニタリーゲートと状態 $|0\\rangle_{n}|\\psi\\rangle_{m}$ を入力として、状態 $|\\tilde{\\theta}\\rangle_{n}|\\psi\\rangle_{m}$ を返すアルゴリズムです。\n",
    "\n",
    "$\\tilde{\\theta}$ は $2^{n}\\theta$ に対するバイナリ近似を示しており、$n$ の添え文字は $n$ ディジットに切り捨てられていることを示しています。\n",
    "$$\n",
    "\\operatorname { QPE } ( U , |0\\rangle_{n}|\\psi\\rangle_{m} ) = |\\tilde{\\theta}\\rangle_{n}|\\psi\\rangle_{m}.\n",
    "$$\n",
    "\n",
    "HLL では QPE を $U = e ^ { i A t }$ に対して適用しています、ここで $A$ は行列で解きたい系に関係しています。この場合、\n",
    "$$\n",
    "e ^ { i A t } = \\sum_{j=0}^{N-1}e^{i\\lambda_{j}t}|u_{j}\\rangle\\langle u_{j}|.\n",
    "$$\n",
    "です。さらに、固有値 $e ^ { i \\lambda _ { j } t }$ をもつ固有ベクトル $|u_{j}\\rangle_{n_{b}}$ に対しては QPE は $|\\tilde{\\lambda }_ { j }\\rangle_{n_{l}}|u_{j}\\rangle_{n_{b}}$ を出力します。$\\tilde{\\lambda }_ { j }$ は、$2^{n_l}\\frac{\\lambda_ { j }t}{2\\pi}$ に対する $n_{l}$-bit バイナリ近似です。従って、仮にそれぞれの $\\lambda_{j}$ が $n_{l}$ビットで正確に記述できる場合には、\n",
    "$$\n",
    "\\operatorname { QPE } ( e ^ { i A 2\\pi } , \\sum_{j=0}^{N-1}b_{j}|0\\rangle_{n_{l}}|u_{j}\\rangle_{n_{b}} ) = \\sum_{j=0}^{N-1}b_{j}|\\lambda_{j}\\rangle_{n_{l}}|u_{j}\\rangle_{n_{b}}.\n",
    "$$\n",
    "となります。\n",
    "\n",
    "### D. Non-exact QPE <a id='qpe2'></a>\n",
    "\n",
    "In reality, the quantum state of the register after applying QPE to the initial state is\n",
    "$$\n",
    "\\sum _ { j=0 }^{N-1} b _ { j } \\left( \\sum _ { l = 0 } ^ { 2 ^ { n_{l} } - 1 } \\alpha _ { l | j } |l\\rangle_{n_{l}} \\right)|u_{j}\\rangle_{n_{b}},\n",
    "$$\n",
    "where\n",
    "$$\n",
    "\\alpha _ { l | j } = \\frac { 1 } { 2 ^ { n_{l} } } \\sum _ { k = 0 } ^ { 2^{n_{l}}- 1 } \\left( e ^ { 2 \\pi i \\left( \\frac { \\lambda _ { j } t } { 2 \\pi } - \\frac { l } { 2 ^ { n_{l} } } \\right) } \\right) ^ { k }.\n",
    "$$\n",
    "\n",
    "Denote by $\\tilde{\\lambda_{j}}$ the best $n_{l}$-bit approximation to $\\lambda_{j}$, $1\\leq j\\leq N$. Then we can relabel the $n_{l}$-register so that $\\alpha _ { l | j }$ denotes the amplitude of $|l + \\tilde { \\lambda } _ { j } \\rangle_{n_{l}}$. So now,\n",
    "$$\n",
    "\\alpha _ { l | j } : = \\frac { 1 } { 2 ^ { n_{l}} } \\sum _ { k = 0 } ^ { 2 ^ { n_{l} } - 1 } \\left( e ^ { 2 \\pi i \\left( \\frac { \\lambda _ { j } t } { 2 \\pi } - \\frac { l + \\tilde { \\lambda } _ { j } } { 2 ^ { n_{l} } } \\right) } \\right) ^ { k }.\n",
    "$$\n",
    "If each $\\frac { \\lambda _ { j } t } { 2 \\pi }$ can be represented exactly with $n_{l}$ binary bits, then $\\frac { \\lambda _ { j } t } { 2 \\pi }=\\frac { \\tilde { \\lambda } _ { j } } { 2 ^ { n_{l} } }$ $\\forall j$. Therefore in this case $\\forall j$, $1\\leq j \\leq N$, it holds that $\\alpha _ { 0 | j } = 1$ and $\\alpha _ { l | j } = 0 \\quad \\forall l \\neq 0$. Only in this case we can write that the state of the register after QPE is \n",
    "$$\n",
    "\t\\sum_{j=0}^{N-1} b _ { j } |\\lambda _ {j }\\rangle_{n_{l}} |u_{j}\\rangle_{n_{b}}.\n",
    "$$\n",
    "Otherwise, $|\\alpha _ { l | j }|$ is large if and only if $\\frac { \\lambda _ { j } t } { 2 \\pi } \\approx \\frac { l + \\tilde { \\lambda } _ { j } } { 2 ^ { n_{l} } }$ and the state of the register is\n",
    "$$\n",
    "\\sum _ { j=0 }^{N-1}  \\sum _ { l = 0 } ^ { 2 ^ { n_{l} } - 1 } \\alpha _ { l | j } b _ { j }|l\\rangle_{n_{l}} |u_{j}\\rangle_{n_{b}}.\n",
    "$$"
   ]
  },
  {
   "cell_type": "markdown",
   "metadata": {},
   "source": [
    "## 3. Example: 4-qubit HHL<a id='example1'></a>\n",
    "\n",
    "Let's take the small example from the introduction to illustrate the algorithm. That is,\n",
    "$$A = \\begin{pmatrix}1 & -1/3\\\\-1/3 & 1 \\end{pmatrix}\\quad \\text{and} \\quad |b\\rangle=\\begin{pmatrix}1 \\\\ 0\\end{pmatrix}.$$\n",
    "\n",
    "We will use $n_{b}=1$ qubit to represent $|b\\rangle$, and later the solution $|x\\rangle$, $n_{l}=2$ qubits to store the binary representation of the eigenvalues and $1$ ancilla qubit to store whether the conditioned rotation, hence the algorithm, was successful.\n",
    "\n",
    "For the purpose of illustrating the algorithm, we will cheat a bit and calculate the eigenvalues of $A$ to be able to choose $t$ to obtain an exact binary representation of the rescaled eigenvalues in the $n_{l}$-register. However, keep in mind that for the HHL algorithm implementation one does not need previous knowledge of the eigenvalues. Having said that, a short calculation will give\n",
    "$$\\lambda_{1} = 2/3\\quad\\text{and}\\quad\\lambda_{2}=4/3.$$\n",
    "\n",
    "Recall from the previous section that the QPE will output an $n_{l}$-bit ($2$-bit in this case) binary approximation to $\\frac{\\lambda_ { j }t}{2\\pi}$. Therefore, if we set \n",
    "$$t=2\\pi\\cdot \\frac{3}{8},$$\n",
    "the QPE will give a $2$-bit binary approximation to\n",
    "$$\\frac{\\lambda_ { 1 }t}{2\\pi} = 1/4\\quad\\text{and}\\quad\\frac{\\lambda_ { 2 }t}{2\\pi}=1/2,$$\n",
    "which is, respectively,\n",
    "$$|01\\rangle_{n_{l}}\\quad\\text{and}\\quad|10\\rangle_{n_{l}}.$$\n",
    "\n",
    "The eigenvectors are, respectively,\n",
    "$$|u_{1}\\rangle=\\begin{pmatrix}1 \\\\ -1\\end{pmatrix}\\quad\\text{and}\\quad|u_{2}\\rangle=\\begin{pmatrix}1 \\\\ 1\\end{pmatrix}.$$\n",
    "Again, keep in mind that one does not need to compute the eigenvectors for the HHL implementation. In fact, a general Hermitian matrix $A$ of dimension $N$ can have up to $N$ different eigenvalues, therefore calculating them would take $\\mathcal{O}(N)$ time and the quantum advantage would be lost.\n",
    "\n",
    "We can then write $|b\\rangle$ in the eigenbasis of $A$ as\n",
    "$$|b\\rangle _{n_{b}}=\\sum_{j=0}^{N-1}\\frac{1}{\\sqrt{2}}|u_{j}\\rangle _{n_{b}}.$$\n",
    "\n",
    "Now we are ready to go through the different steps of the HHL algorithm. \n",
    "\n",
    "1. State preparation in this example is trivial since $|b\\rangle=|0\\rangle$.\n",
    "2. Applying QPE will yield\n",
    "$$\n",
    "\\frac{1}{\\sqrt{2}}|01\\rangle|u_{1}\\rangle + \\frac{1}{\\sqrt{2}}|10\\rangle|u_{2}\\rangle.\n",
    "$$\n",
    "3. Conditioned rotation with $C=3/8$ to compensate from having rescaled the eigenvalues gives\n",
    "$$\\frac{1}{\\sqrt{2}}|01\\rangle|u_{1}\\rangle\\left( \\sqrt { 1 - \\frac { (3/8)^{2}  } {(1/4)^{2} } } |0\\rangle + \\frac { 3/8 } { 1/4 } |1\\rangle \\right) + \\frac{1}{\\sqrt{2}}|10\\rangle|u_{2}\\rangle\\left( \\sqrt { 1 - \\frac { (3/8)^{2}  } {(1/2)^{2} } } |0\\rangle + \\frac { 3/8 } { 1/2 } |1\\rangle \\right)\n",
    "$$\n",
    "$$\n",
    "=\\frac{1}{\\sqrt{2}}|01\\rangle|u_{1}\\rangle\\left( \\sqrt { 1 - \\frac { 9  } {4 } } |0\\rangle + \\frac { 3 } { 2 } |1\\rangle \\right) + \\frac{1}{\\sqrt{2}}|10\\rangle|u_{2}\\rangle\\left( \\sqrt { 1 - \\frac { 9  } {16 } } |0\\rangle + \\frac { 3 } { 4 } |1\\rangle \\right).\n",
    "$$\n",
    "4. After applying QPE$^{\\dagger}$ the quantum computer is in the state\n",
    "$$\n",
    "\\frac{1}{\\sqrt{2}}|00\\rangle|u_{1}\\rangle\\left( \\sqrt { 1 - \\frac { 9  } {4 } } |0\\rangle + \\frac { 3 } { 2 } |1\\rangle \\right) + \\frac{1}{\\sqrt{2}}|00\\rangle|u_{2}\\rangle\\left( \\sqrt { 1 - \\frac { 9  } {16 } } |0\\rangle + \\frac { 3 } { 4 } |1\\rangle \\right).\n",
    "$$\n",
    "5. On outcome $1$ when measuring the ancilla qubit, the state is \n",
    "$$\n",
    "\\frac{\\frac{1}{\\sqrt{2}}|00\\rangle|u_{1}\\rangle\\frac { 3 } { 2 } |1\\rangle + \\frac{1}{\\sqrt{2}}|00\\rangle|u_{2}\\rangle\\frac { 3 } { 4 } |1\\rangle}{\\sqrt{45/32}}.\n",
    "$$\n",
    "A quick calculation shows that\n",
    "$$\n",
    "\\frac{\\frac{3}{2\\sqrt{2}}|u_{1}\\rangle+ \\frac{3}{4\\sqrt{2}}|u_{2}\\rangle}{\\sqrt{45/32}} = \\frac{|x\\rangle}{||x||}.\n",
    "$$\n",
    "6. Without using extra gates, we can compute the norm of $|x\\rangle$: it is the probability of measuring $1$ in the ancilla qubit from the previous step.\n",
    "$$\n",
    "P[|1\\rangle] = \\left(\\frac{3}{2\\sqrt{2}}\\right)^{2} + \\left(\\frac{3}{4\\sqrt{2}}\\right)^{2} = \\frac{45}{32} = |||x\\rangle||^{2}.\n",
    "$$\n",
    "\n"
   ]
  },
  {
   "cell_type": "markdown",
   "metadata": {},
   "source": [
    "## 4. Qiskit Implementation<a id='implementation'></a>"
   ]
  },
  {
   "cell_type": "markdown",
   "metadata": {},
   "source": [
    "Now that we have analytically solved the problem from the example we are going to use it to illustrate how to run the HHL on a quantum simulator and on the real hardware. For the quantum simulator, Qiskit Aqua already provides an implementation of the HHL algorithm requiring the matrix $A$ and $|b\\rangle$ as basic inputs. The main advantage is that it can take a general Hermitian matrix and an arbitrary initial state as inputs. This means that the algorithm is designed for a general purpose and does not optimise the circuit for a particular problem, which is problematic if the goal is to run the circuit on the existing real hardware. At the time of writing, the existing quantum computers are noisy and can only run small circuits. Therefore, in Section [4.B.](#implementationdev) we will see an optimised circuit that can be used for a class of problems to which our example belongs and mention the existing procedures to deal with noise in quantum computers."
   ]
  },
  {
   "cell_type": "markdown",
   "metadata": {},
   "source": [
    "## A. Running HHL on a simulator: general method<a id='implementationsim'></a>"
   ]
  },
  {
   "cell_type": "markdown",
   "metadata": {},
   "source": [
    "To run the HHL algorithm provided by Qiskit Aqua we just need to import the right modules and set the parameters as follows. In the worked out example we set the time of the Hamiltonian simulation to $t=2\\pi\\cdot \\frac{3}{8}$, however we will run the simulation without setting this parameter to show that knowledge of the eigenvalues is not required. Nonetheless, if the matrix has some structure it might be possible to obtain information about the eigenvalues and use it to choose a suitable $t$ and improve the accuracy of the solution returned by the HHL. As an exercise to see this, run the algorithm setting the time to $t=2\\pi\\cdot \\frac{3}{8}$. If done correctly, the fidelity of the solution should be $1$. (Hint:,sƃıǝ, uıɥʇıʍ ɹǝʇǝɯɐɹɐd ,ǝɯıʇ‾oʌǝ, ǝɥʇ ʇǝs )."
   ]
  },
  {
   "cell_type": "code",
   "execution_count": 1,
   "metadata": {},
   "outputs": [],
   "source": [
    "from qiskit.aqua import run_algorithm\n",
    "from qiskit.aqua.input import LinearSystemInput\n",
    "from qiskit.quantum_info import state_fidelity\n",
    "from qiskit.aqua.algorithms.classical import ExactLSsolver\n",
    "import numpy as np"
   ]
  },
  {
   "cell_type": "code",
   "execution_count": 2,
   "metadata": {},
   "outputs": [],
   "source": [
    "params = {\n",
    "    'problem': {\n",
    "        'name': 'linear_system'\n",
    "    },\n",
    "    'algorithm': {\n",
    "        'name': 'HHL'\n",
    "    },\n",
    "    'eigs': {\n",
    "        'expansion_mode': 'suzuki',\n",
    "        'expansion_order': 1,\n",
    "        'name': 'EigsQPE',\n",
    "        'num_ancillae': 3,\n",
    "        'num_time_slices': 1\n",
    "    },\n",
    "    'reciprocal': {\n",
    "        'name': 'Lookup'\n",
    "    },\n",
    "    'backend': {\n",
    "        'provider': 'qiskit.BasicAer',\n",
    "        'name': 'statevector_simulator'\n",
    "    }\n",
    "}"
   ]
  },
  {
   "cell_type": "markdown",
   "metadata": {},
   "source": [
    "The following function will be used to calculate the fidelity of solution returned by the HHL algorithm."
   ]
  },
  {
   "cell_type": "code",
   "execution_count": 3,
   "metadata": {},
   "outputs": [],
   "source": [
    "def fidelity(hhl, ref):\n",
    "    solution_hhl_normed = hhl / np.linalg.norm(hhl)\n",
    "    solution_ref_normed = ref / np.linalg.norm(ref)\n",
    "    fidelity = state_fidelity(solution_hhl_normed, solution_ref_normed)\n",
    "    print(\"fidelity %f\" % fidelity)"
   ]
  },
  {
   "cell_type": "code",
   "execution_count": 4,
   "metadata": {},
   "outputs": [],
   "source": [
    "matrix = [[1, -1/3], [-1/3, 1]]\n",
    "vector = [1, 0]\n",
    "params['input'] = {\n",
    "    'name': 'LinearSystemInput',\n",
    "    'matrix': matrix,\n",
    "    'vector': vector\n",
    "}"
   ]
  },
  {
   "cell_type": "markdown",
   "metadata": {},
   "source": [
    "The reason to choose $t=2\\pi\\cdot \\frac{3}{8}$ was so that the rescaled eigenvalues could be represented exactly with $2$ binary digits. Since now this is not the case, the representation will be approximate, hence QPE not exact and the returned solution will be an approximation."
   ]
  },
  {
   "cell_type": "code",
   "execution_count": 5,
   "metadata": {},
   "outputs": [
    {
     "name": "stdout",
     "output_type": "stream",
     "text": [
      "solution  [1.13586+0.j 0.40896+0.j]\n",
      "classical solution  [1.125 0.375]\n",
      "probability 0.056291\n",
      "fidelity 0.999432\n"
     ]
    }
   ],
   "source": [
    "result = run_algorithm(params)\n",
    "print(\"solution \", np.round(result['solution'], 5))\n",
    "\n",
    "result_ref = ExactLSsolver(matrix, vector).run()\n",
    "print(\"classical solution \", np.round(result_ref['solution'], 5))\n",
    "\n",
    "print(\"probability %f\" % result['probability_result'])\n",
    "fidelity(result['solution'], result_ref['solution'])"
   ]
  },
  {
   "cell_type": "markdown",
   "metadata": {},
   "source": [
    "We can print the resources used by the algorithm. The depth is the maximum number of gates applied to a single qubit, while the width is defined as the number of qubits required. We will also print the number of CNOTs since this number together with the width gives a good idea of whether running the circuit on current real hardware is feasible."
   ]
  },
  {
   "cell_type": "code",
   "execution_count": 6,
   "metadata": {},
   "outputs": [
    {
     "name": "stdout",
     "output_type": "stream",
     "text": [
      "circuit_width 7\n",
      "circuit_depth 326\n",
      "CNOT gates 174\n"
     ]
    }
   ],
   "source": [
    "print(\"circuit_width\", result['circuit_info']['width'])\n",
    "print(\"circuit_depth\", result['circuit_info']['depth'])\n",
    "print(\"CNOT gates\", result['circuit_info']['operations']['cx'])"
   ]
  },
  {
   "cell_type": "markdown",
   "metadata": {},
   "source": [
    "## B. Running HHL on a real quantum device: optimised example<a id='implementationdev'></a>"
   ]
  },
  {
   "cell_type": "markdown",
   "metadata": {},
   "source": [
    "In the previous section we ran the standard algorithm provided in Qiskit and saw that it uses $7$ qubits, has a depth of $326$ gates and requires a total of $174$ CNOT gates. These numbers are not feasible for the current available hardware, therefore we need to decrease these quantities. In particular, the goal will be to reduce the number of CNOTs by a factor of $10$ since they have worse fidelity than single-qubit gates. Furthermore, we can reduce the number of qubits to $4$ as was the original statement of the problem: the Qiskit method was written for a general problem and that is why it requires $3$ additional ancilla qubits.\n",
    "\n",
    "However, solely decreasing the number of gates and qubits will not give a good approximation to the solution on real hardware. This is because there are two sources of errors: those that occur during the run of the circuit and readout errors. \n",
    "\n",
    "Qiskit provides a module to mitigate the readout errors by individually preparing and measuring all basis states, a detailed treatment on the topic can be found in the paper by Dewes et al.<sup>[3](#readouterr)</sup> To deal with the errors occurring during the run of the circuit, Richardson extrapolation can be used to calculate the error to the zero limit by running the circuit three times, each replacing each CNOT gate by $1$, $3$ and $5$ CNOTs respectively<sup>[4](#richardson)</sup>. The idea is that theoretically the three circuits should produce the same result, but in real hardware adding CNOTs means amplifying the error. Since we know that we have obtained results with an amplified error, and we can estimate by how much the error was amplified in each case, we can recombine the quantities to obtain a new result that is a closer approximation to the analytic solution than any of the previous obtained values.\n",
    "\n",
    "Below we give the optimised circuit that can be used for any problem of the form\n",
    "$$A = \\begin{pmatrix}a & b\\\\b & a \\end{pmatrix}\\quad \\text{and} \\quad |b\\rangle=\\begin{pmatrix}\\cos(\\theta) \\\\ \\sin(\\theta)\\end{pmatrix},\\quad ,a,b,\\theta\\in\\mathbb{R}.$$\n",
    "\n",
    "The following optimisation was extracted from a work on the HHL for tridiagonal symmetric matrices<sup>[5](#tridi)</sup>, this particular circuit was derived with the aid of the UniversalQCompiler software<sup>[6](#qcompiler)</sup>.\n"
   ]
  },
  {
   "cell_type": "code",
   "execution_count": null,
   "metadata": {},
   "outputs": [],
   "source": [
    "from qiskit import QuantumRegister, ClassicalRegister, QuantumCircuit\n",
    "import numpy as np\n",
    "\n",
    "nqubits = 4 # Total number of qubits\n",
    "nb = 1 # Number of qubits representing the solution\n",
    "nl = 2 # Number of qubits representing the eigenvalues\n",
    "\n",
    "theta = 0 # Angle defining |b>\n",
    "\n",
    "a = 1 # Matrix diagonal\n",
    "b = -1/3 # Matrix off-diagonal\n",
    "\n",
    "# Initialise the quantum registers\n",
    "qr = QuantumRegister(nqubits)\n",
    "\n",
    "# Initialise the classical register\n",
    "cr = ClassicalRegister(nqubits)\n",
    "\n",
    "# Create a Quantum Circuit\n",
    "qc = QuantumCircuit(qr, cr)\n",
    "\n",
    "qrb = qr[0:nb]\n",
    "qrl = qr[nb:nb+nl]\n",
    "qra = qr[nb+nl:nb+nl+1]\n",
    "\n",
    "# State preparation. \n",
    "qc.ry(2*theta, qrb[0])\n",
    "    \n",
    "# QPE with e^{iAt}\n",
    "for qu in qrl:\n",
    "    qc.h(qu)\n",
    "\n",
    "qc.u1(a*t, qrl[0])\n",
    "qc.u1(a*t*2, qrl[1])\n",
    "\n",
    "qc.u3(b*t/m, -np.pi/2, np.pi/2, qrb[0])\n",
    "\n",
    "\n",
    "# Controlled e^{iAt} on \\lambda_{1}:\n",
    "params=b*t/m\n",
    "\n",
    "qc.u1(np.pi/2,qrb[0])\n",
    "qc.cx(qrl[0],qrb[0])\n",
    "qc.ry(params,qrb[0])\n",
    "qc.cx(qrl[0],qrb[0])\n",
    "qc.ry(-params,qrb[0])\n",
    "qc.u1(3*np.pi/2,qrb[0])\n",
    "\n",
    "# Controlled e^{2iAt} on \\lambda_{2}:\n",
    "params = b*t*2/m\n",
    "\n",
    "qc.u1(np.pi/2,qrb[0])\n",
    "qc.cx(qrl[1],qrb[0])\n",
    "qc.ry(params,qrb[0])\n",
    "qc.cx(qrl[1],qrb[0])\n",
    "qc.ry(-params,qrb[0])\n",
    "qc.u1(3*np.pi/2,qrb[0])\n",
    "\n",
    "# Inverse QFT\n",
    "qc.h(qrl[1])\n",
    "qc.rz(-np.pi/4,qrl[1])\n",
    "qc.cx(qrl[0],qrl[1])\n",
    "qc.rz(np.pi/4,qrl[1])\n",
    "qc.cx(qrl[0],qrl[1])\n",
    "qc.rz(-np.pi/4,qrl[0])\n",
    "qc.h(qrl[0])\n",
    "\n",
    "# Eigenvalue rotation\n",
    "t1=(-np.pi +np.pi/3 - 2*np.arcsin(1/3))/4\n",
    "t2=(-np.pi -np.pi/3 + 2*np.arcsin(1/3))/4\n",
    "t3=(np.pi -np.pi/3 - 2*np.arcsin(1/3))/4\n",
    "t4=(np.pi +np.pi/3 + 2*np.arcsin(1/3))/4\n",
    "\n",
    "qc.cx(qrl[1],qra[0])\n",
    "qc.ry(t1,qra[0])\n",
    "qc.cx(qrl[0],qra[0])\n",
    "qc.ry(t2,qra[0])\n",
    "qc.cx(qrl[1],qra[0])\n",
    "qc.ry(t3,qra[0])\n",
    "qc.cx(qrl[0],qra[0])\n",
    "qc.ry(t4,qra[0])\n"
   ]
  },
  {
   "cell_type": "markdown",
   "metadata": {},
   "source": [
    "The code below takes as inputs our circuit, the real hardware backend and the set of qubits we want to use, and returns and instance that can be run on the specified device. Creating the circuits with $3$ and $5$ CNOTs is the same but calling the transpile method with the right quantum circuit.\n",
    "\n",
    "Real hardware devices need to be recalibrated regularly, and the fidelity of a specific qubit or gate can change over time. Furthermore, different chips have different connectivities. If we try to run a circuit that performs a two-qubit gate between two qubits that are not connected on the specified device, the transpiler will add SWAP gates. Therefore it is good practice to check with the IBM Q Experience webpage<sup>[7](#qexperience)</sup> before running the following code and choose a set of qubits with the right connectivity and lowest error rates at the given time."
   ]
  },
  {
   "cell_type": "code",
   "execution_count": null,
   "metadata": {},
   "outputs": [],
   "source": [
    "from qiskit import execute, BasicAer, ClassicalRegister, IBMQ\n",
    "from qiskit.compiler import transpile\n",
    "from qiskit.ignis.mitigation.measurement import (complete_meas_cal, # Measurement error mitigation functions\n",
    "                                                 CompleteMeasFitter, \n",
    "                                                 MeasurementFilter)\n",
    "\n",
    "IBMQ.load_accounts()\n",
    "\n",
    "backend = IBMQ.get_backend('ibmqx2') # calibrate using real hardware\n",
    "layout = [2,3,0,4]\n",
    "chip_qubits = 5\n",
    "\n",
    "# Transpiled circuit for the real hardware\n",
    "qc_qa_c = transpile(qc, backend=ibmq_backend, initial_layout=layout)"
   ]
  },
  {
   "cell_type": "markdown",
   "metadata": {},
   "source": [
    "The next step is to create the extra circuits used to mitigate the readout errors<sup>[3](#readouterr)</sup>."
   ]
  },
  {
   "cell_type": "code",
   "execution_count": null,
   "metadata": {},
   "outputs": [],
   "source": [
    "meas_cals, state_labels = complete_meas_cal(qubit_list=layout, qr=QuantumRegister(chip_qubits))\n",
    "\n",
    "#  The following are the circuits that were obtained after replacing each CNOT by 1, 3 and 5 CNOTs respectively\n",
    "circuits = [qc_qa_c, qc_qa_3cx, qc_qa_5cx]\n",
    "\n",
    "qcs = meas_cals + circuits\n",
    "\n",
    "job = qiskit.execute(meas_cals + circuits, backend=backend, shots=shots, optimization_level=None)"
   ]
  },
  {
   "cell_type": "markdown",
   "metadata": {},
   "source": [
    "The following plot<sup>[5](#tridi)</sup>, shows the results from running the circuit above on real hardware for $10$ different initial states. The $x$-axis represents the angle $\\theta$ defining the initial state in each case. The results where obtained after mitigating the readout error and then extrapolating the errors arising during the run of the circuit from the results with the circuits with $1$, $3$ and $5$ CNOTs. \n",
    "\n",
    "<img src=\"images/norm_public.png\">\n",
    "\n",
    "Compare to the results without error mitigation nor extrapolation from the CNOTs<sup>[5](#tridi)</sup>.\n",
    "\n",
    "<img src=\"images/noerrmit_public.png\">"
   ]
  },
  {
   "cell_type": "markdown",
   "metadata": {},
   "source": [
    "## 8. Problems<a id='problems'></a>"
   ]
  },
  {
   "cell_type": "markdown",
   "metadata": {},
   "source": [
    "1. Run the algorithm 'evo_time': $2\\pi(3/8)$. The fidelity should now be $1$.\n",
    "\n",
    "    ##### Real hardware:\n",
    "2. Set the time parameter for the optimised example. (Hint: uoᴉʇnlos ǝɥʇ uᴉ uoᴉʇnqᴉɹʇuoɔ ʇsǝƃɹɐl ǝɥʇ ǝʌɐɥ llᴉʍ ǝsɹǝʌuᴉ sʇᴉ ǝɔuᴉs ʎlʇɔɐxǝ pǝʇuǝsǝɹdǝɹ ǝq uɐɔ ǝnlɐʌuǝƃᴉǝ ʇsǝllɐɯs ǝɥʇ ʇɐɥʇ os ʇᴉ ʇǝs oʇ sᴉ ʇlnsǝɹ ʇsǝq ǝɥʇ. Solution:߈߈Ɛᘔ6⇂06߈߈6⇂95Ɛ˙ᘔ = ʇ )\n",
    "2. Create transpiled circuits for $3$ and $5$ CNOTs from a given circuit 'qc'. When creating the circuits you will have to add barriers so that these consecutive CNOT gates do not get cancelled when using the transpile() method.\n",
    "3. Run your circuits on the real hardware and apply a quadratic fit to the results to obtain the extrapolated value."
   ]
  },
  {
   "cell_type": "markdown",
   "metadata": {},
   "source": [
    "## 9. References<a id='references'></a>"
   ]
  },
  {
   "cell_type": "markdown",
   "metadata": {},
   "source": [
    "1. J. R. Shewchuk. An Introduction to the Conjugate Gradient Method Without the Agonizing Pain. Technical Report CMU-CS-94-125, School of Computer Science, Carnegie Mellon University, Pittsburgh, Pennsylvania, March 1994.<a id='conjgrad'></a> \n",
    "2. A. W. Harrow, A. Hassidim, and S. Lloyd, “Quantum algorithm for linear systems of equations,” Phys. Rev. Lett. 103.15 (2009), p. 150502.<a id='hhl'></a>\n",
    "3. A. Dewes, F. R. Ong, V. Schmitt, R. Lauro, N. Boulant, P. Bertet, D. Vion, and D. Esteve, “Characterization of a two-transmon processor with individual single-shot qubit readout,” Phys. Rev. Lett. 108, 057002 (2012). <a id='readouterr'></a>\n",
    "4. N. Stamatopoulos, D. J. Egger, Y. Sun, C. Zoufal, R. Iten, N. Shen, and S. Woerner, “Option Pricing using Quantum Computers,” arXiv:1905.02666 . <a id='richardson'></a>\n",
    "5. A. Carrera Vazquez, A. Frisch, D. Steenken, H. S. Barowski, R. Hiptmair, and S. Woerner, “Enhancing Quantum Linear System Algorithm by Richardson Extrapolation,” (to be included).<a id='tridi'></a>\n",
    "6. R. Iten, O. Reardon-Smith, L. Mondada, E. Redmond, R. Singh Kohli, R. Colbeck, “Introduction to UniversalQCompiler,” arXiv:1904.01072 .<a id='qcompiler'></a>\n",
    "7. https://quantum-computing.ibm.com/ .<a id='qexperience'></a>"
   ]
  },
  {
   "cell_type": "code",
   "execution_count": null,
   "metadata": {},
   "outputs": [],
   "source": []
  }
 ],
 "metadata": {
  "kernelspec": {
   "display_name": "Python 3",
   "language": "python",
   "name": "python3"
  },
  "language_info": {
   "codemirror_mode": {
    "name": "ipython",
    "version": 3
   },
   "file_extension": ".py",
   "mimetype": "text/x-python",
   "name": "python",
   "nbconvert_exporter": "python",
   "pygments_lexer": "ipython3",
   "version": "3.7.3"
  }
 },
 "nbformat": 4,
 "nbformat_minor": 2
}
