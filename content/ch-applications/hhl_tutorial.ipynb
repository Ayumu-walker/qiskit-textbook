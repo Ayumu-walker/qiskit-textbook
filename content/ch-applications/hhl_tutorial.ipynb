{
 "cells": [
  {
   "cell_type": "markdown",
   "metadata": {
    "tags": [
     "remove_cell"
    ]
   },
   "source": [
    "# HHL を利用して線形方程式系を解き、Qiskit で実装する"
   ]
  },
  {
   "cell_type": "markdown",
   "metadata": {},
   "source": [
    "このチュートリアルでは、HHL アルゴリズムを紹介したあと量子回路を導出し、Qiskit を利用して実装します。HHL をどのようにシミュレーターと５量子ビットで実行するかも示します。\n",
    "\n",
    "## 内容\n",
    "1. [はじめに](#introduction)\n",
    "2. [HHL (Harrow-Hassidim-Lloyd) アルゴリズム](#hhlalg)\n",
    "    1. [いくつかの数学的背景](#mathbackground)\n",
    "    2. [HHL アルゴリムの説明](#hhldescription)\n",
    "    3. [HHLでの量子位相推定(QPE) について](#qpe)\n",
    "    4. [正確でない QPE の場合](#qpe2)\n",
    "3. [例: 4量子ビット HHL](#example1)\n",
    "4. [Qiskit実装](#implementation)\n",
    "    1. [HHL をシミュレーターで実行する: 一般的な方法](#implementationsim)\n",
    "    2. [HHL を実量子デバイスで実行する：最適化例](#implementationdev)\n",
    "5. [演習](#problems)\n",
    "6. [参考文献](#references)"
   ]
  },
  {
   "cell_type": "markdown",
   "metadata": {},
   "source": [
    "## 1. はじめに <a id='introduction'></a>\n",
    "\n",
    "線形方程式系は様々な分野で、多くの実世界アプリケーションとして自然に現れます。例えば、偏微分方程式の解、金融モデルの校正（キャリブレーション)、流体シミュレーション、あるいは数値場計算などです。問題は次のように定義できます：行列　\n",
    "$A\\in\\mathbb{C}^{N\\times N}$ とベクトル $\\vec{b}\\in\\mathbb{C}^{N}$ が与えられている時、 $A\\vec{x}=\\vec{b}　$　を満足する $\\vec{x}\\in\\mathbb{C}^{N} $ を求めよ。\n",
    "\n",
    "$N=2$ の場合に以下の例を見てみましょう。\n",
    "\n",
    "$$A = \\begin{pmatrix}1 & -1/3\\\\-1/3 & 1 \\end{pmatrix},\\quad \\vec{x}=\\begin{pmatrix} x_{1}\\\\ x_{2}\\end{pmatrix}\\quad \\text{and} \\quad \\vec{b}=\\begin{pmatrix}1 \\\\ 0\\end{pmatrix}.$$\n",
    "\n",
    "この問題は以下のように $x_{1}, x_{2}\\in\\mathbb{C}$ を見つけるというものに書き換えることもできます。\n",
    "\n",
    "$$\\begin{cases}x_{1} - \\frac{x_{2}}{3} = 1 \\\\ -\\frac{x_{1}}{3} + x_{2} = 0\\end{cases}. $$\n",
    "\n",
    "線形方程式系は $A$ の行もしくは列に高々 $s$ 非ゼロ成分を持つ時に、$s$-sparse (スパース、疎行列)と呼ばれます。$N$ サイズの $s$-sparse系を古典コンピューターで解くには、共役勾配法(conjugate gradient method) を用いても $\\mathcal{ O }(Ns\\kappa\\log(1/\\epsilon))$ の実行時間が必要です <sup>[1](#conjgrad)</sup>。ここで、$\\kappa$ はシステムの条件数、$\\epsilon$ は近似の正確度です。\n",
    "\n",
    "データのローディングを実施する効果的なオラクル(Oracle)が存在し、ハミルトニアン シミュレーションとソリューションの関数の計算が可能であるという仮定のもとで、$A$ はエルミート行列である時、HHL(Harrow-Hassidim-Lloyd) は時間複雑性 $\\mathcal{ O }(\\log(N)s^{2}\\kappa^{2}/\\epsilon)$<sup>[2](#hhl)</sup> でソリューションの関数を推測するという量子アルゴリズムです。これはシステムのサイズに対して指数関数的スピードアップです。ただし、非常に重要な注意点があり、古典アルゴリズムが完全解を返すのに対して、HLL はソリューションとなるベクトルを与える関数を近似するだけです。"
   ]
  },
  {
   "cell_type": "markdown",
   "metadata": {},
   "source": [
    "## 2. HHL (Harrow-Hassidim-Lloyd) アルゴリズム<a id='hhlalg'></a>\n",
    "\n",
    "### A. いくつかの数学的背景<a id='mathbackground'></a>\n",
    "量子コンピューターを利用して線形方程式系を解く最初のステップは、問題を量子の言葉に落とし込むことです。系を再スケールすることで、$\\vec{b}$ と $\\vec{x}$ は正規化できると仮定でき、それぞれ量子状態 $|b\\rangle$ と $|x\\rangle$ にマップできます。通常、利用されるマッピングは次のようなものです。すなわち、$\\vec{b}$ (resp. $\\vec{x}$) の $i^{th}$ 成分は、量子状態 $|b\\rangle$ (resp. $|x\\rangle$) の $i^{th}$ 基底状態の振幅に対応するというものです。ここからは、再スケールされた問題にフォーカスします。\n",
    "\n",
    "$$ A|x\\rangle=|b\\rangle.$$\n",
    "\n",
    "$A$ はエルミートなので、スペクトル分解を持ちます。\n",
    "\n",
    "$$\n",
    "A=\\sum_{j=0}^{N-1}\\lambda_{j}|u_{j}\\rangle\\langle u_{j}|,\\quad \\lambda_{j}\\in\\mathbb{ R },\n",
    "$$\n",
    "\n",
    "ここで、$|u_{j}\\rangle$ は $A$ の $j^{th}$ 固有ベクトルで、固有値 はそれぞれ $\\lambda_{j}$ です。次に、逆行列です。\n",
    "\n",
    "$$\n",
    "A^{-1}=\\sum_{j=0}^{N-1}\\lambda_{j}^{-1}|u_{j}\\rangle\\langle u_{j}|,\n",
    "$$\n",
    "\n",
    "系の右側は $A$ の固有基底を用いて次のように書けます。\n",
    "$$\n",
    "|b\\rangle=\\sum_{j=0}^{N-1}b_{j}|u_{j}\\rangle,\\quad b_{j}\\in\\mathbb{ C }.\n",
    "$$\n",
    "\n",
    "HHLの目的は、次の状態でレジスターを読み込むことでアルゴリズムを終了させることを銘記してください。\n",
    "$$\n",
    "|x\\rangle=A^{-1}|b\\rangle=\\sum_{j=0}^{N-1}\\lambda_{j}^{-1}b_{j}|u_{j}\\rangle.\n",
    "$$\n",
    "量子状態について話しているので、既に暗黙的な規格化定数が入っていることに着目してください。\n",
    "\n",
    "### B. HHL アルゴリムの説明 <a id='hhldescription'></a>\n",
    "\n",
    "アルゴリズムは３つの量子レジスターを利用し、アルゴリズムの開始時点ではすべて $|0\\rangle $ にセットされます。一つのレジスター、ここでは $n_{l}$ とサブインデックスで示します、は $A$ の固有値のバイナリ表現の保管に利用されます。２つ目のレジスター、$n_{b}$、はベクトルソリューションが保管されます。ここからは $N=2^{n_{b}}$ とします。アンシラ量子ビットとして追加のレジスターがあります。追加レジスターは、個々の計算の中間段階で利用されますが、各計算の最初に $|0\\rangle $ にセットされ、個々の操作の最後には、$|0\\rangle $ 状態に戻されるため、以下の説明では省略しています。\n",
    "\n",
    "以下の手順で対応する回路のハイレベルな図形で HHL アルゴリズムのアウトラインを説明します。簡単のため、引き続く説明ではすべての計算が正確であると仮定し、正確でない場合の詳細なセクション [2.D.](#qpe2) で説明します。\n",
    "\n",
    "<img src=\"images/hhlcircuit.png\" width = \"75%\" height = \"75%\">\n",
    "\n",
    "1. データ $|b\\rangle\\in\\mathbb{ C }^{N}$ のロード。すなわち、以下の変換を実行します。\n",
    "    $$ |0\\rangle _{n_{b}} \\mapsto |b\\rangle _{n_{b}}. $$\n",
    "2. 量子位相推定(Quantum Phase Estimation - QPE) を適用します。\n",
    "\t$$\n",
    "\tU = e ^ { i A t } := \\sum _{j=0}^{N-1}e ^ { i \\lambda _ { j } t } |u_{j}\\rangle\\langle u_{j}|.\n",
    "\t$$\n",
    "\t$A$ の固有基底で表現されるレジスターの量子状態は次のようになります。\n",
    "    $$\n",
    "\t\\sum_{j=0}^{N-1} b _ { j } |\\lambda _ {j }\\rangle_{n_{l}} |u_{j}\\rangle_{n_{b}},\n",
    "\t$$\n",
    "    ここで、$|\\lambda _ {j }\\rangle_{n_{l}}$ は $\\lambda _ {j }$ の $n_{l}$ ビットバイナリ表現です。\n",
    "    \n",
    "3.  アンシラ量子ビットを追加し、$|\\lambda_{ j }\\rangle$,\n",
    "\t$$\n",
    "\t\\sum_{j=0}^{N-1} b _ { j } |\\lambda _ { j }\\rangle_{n_{l}}|u_{j}\\rangle_{n_{b}} \\left( \\sqrt { 1 - \\frac { C^{2}  } { \\lambda _ { j } ^ { 2 } } } |0\\rangle + \\frac { C } { \\lambda _ { j } } |1\\rangle \\right),\n",
    "\t$$　の条件にて回転を適用します。$C$ は規格化因子です。\n",
    "        \n",
    "4.  QPE$^{\\dagger}$ を適用します。PQE で発生しうるエラーを無視すると、次の結果になります。\n",
    "\t$$\n",
    "\t\\sum_{j=0}^{N-1} b _ { j } |0\\rangle_{n_{l}}|u_{j}\\rangle_{n_{b}} \\left( \\sqrt { 1 - \\frac {C^{2}  } { \\lambda _ { j } ^ { 2 } } } |0\\rangle + \\frac { C } { \\lambda _ { j } } |1\\rangle \\right).\n",
    "\t$$\n",
    "    \n",
    "5. 計算基底にてアンシラ量子ビットを測定します。結果が $1$ の場合、測定後のレジスターの状態は次のようになります。\n",
    "\t$$\n",
    "\t\\left( \\sqrt { \\frac { 1 } { \\sum_{j=0}^{N-1} \\left| b _ { j } \\right| ^ { 2 } / \\left| \\lambda _ { j } \\right| ^ { 2 } } } \\right) \\sum _{j=0}^{N-1} \\frac{b _ { j }}{\\lambda _ { j }} |0\\rangle_{n_{l}}|u_{j}\\rangle_{n_{b}},\n",
    "\t$$\n",
    "\t規格化因子を除き、ソリューションになっています。\n",
    "\n",
    "6. オブザーバブル $M$ を適用し、$F(x):=\\langle x|M|x\\rangle$ を計算します。\n",
    "    \n",
    "### C. HHLでの量子位相推定(QPE) について <a id='qpe'></a>\n",
    "\n",
    "量子位相推定については第３章でより詳しく説明がされています、HHLアルゴリズムではこの量子処理が要になっているので、ここで定義を再確認したいと覆います。大雑把にいうと、固有ベクトリ $|\\psi\\rangle_{m}$ と 固有値 $e^{2\\pi i\\theta}$ をもつユニタリー $U$ が与えられた場合に  $\\theta$ を求めるという量子アルゴリズムです。次のように正確に定義できます。\n",
    "\n",
    "**定義:** $U\\in\\mathbb{ C }^{2^{m}\\times 2^{m}}$ がユニタリーであり、$|\\psi\\rangle_{m}\\in\\mathbb{ C }^{2^{m}}$ がそれぞれ固有値 $e^{2\\pi i\\theta}$ を持つ固有ベクトルである時、**量子位相推定(Quantum Phase Estimation)** (省略して **QPE**) アルゴリズムは、$U$ に対応するユニタリーゲートと状態 $|0\\rangle_{n}|\\psi\\rangle_{m}$ を入力として、状態 $|\\tilde{\\theta}\\rangle_{n}|\\psi\\rangle_{m}$ を返すアルゴリズムです。\n",
    "\n",
    "$\\tilde{\\theta}$ は $2^{n}\\theta$ に対するバイナリ近似を示しており、$n$ の添え文字は $n$ ディジットに切り捨てられていることを示しています。\n",
    "$$\n",
    "\\operatorname { QPE } ( U , |0\\rangle_{n}|\\psi\\rangle_{m} ) = |\\tilde{\\theta}\\rangle_{n}|\\psi\\rangle_{m}.\n",
    "$$\n",
    "\n",
    "HLL では QPE を $U = e ^ { i A t }$ に対して適用しています、ここで $A$ は行列で解きたい系に関係しています。この場合、\n",
    "$$\n",
    "e ^ { i A t } = \\sum_{j=0}^{N-1}e^{i\\lambda_{j}t}|u_{j}\\rangle\\langle u_{j}|.\n",
    "$$\n",
    "です。さらに、固有値 $e ^ { i \\lambda _ { j } t }$ をもつ固有ベクトル $|u_{j}\\rangle_{n_{b}}$ に対しては QPE は $|\\tilde{\\lambda }_ { j }\\rangle_{n_{l}}|u_{j}\\rangle_{n_{b}}$ を出力します。$\\tilde{\\lambda }_ { j }$ は、$2^{n_l}\\frac{\\lambda_ { j }t}{2\\pi}$ に対する $n_{l}$-bit バイナリ近似です。従って、仮にそれぞれの $\\lambda_{j}$ が $n_{l}$ビットで正確に記述できる場合には、\n",
    "$$\n",
    "\\operatorname { QPE } ( e ^ { i A 2\\pi } , \\sum_{j=0}^{N-1}b_{j}|0\\rangle_{n_{l}}|u_{j}\\rangle_{n_{b}} ) = \\sum_{j=0}^{N-1}b_{j}|\\lambda_{j}\\rangle_{n_{l}}|u_{j}\\rangle_{n_{b}}.\n",
    "$$\n",
    "となります。\n",
    "\n",
    "### D. 正確でない QPE の場合<a id='qpe2'></a>\n",
    "\n",
    "現実には、QPE を初期状態に適用したあとのレジスターの量子状態は、\n",
    "$$\n",
    "\\sum _ { j=0 }^{N-1} b _ { j } \\left( \\sum _ { l = 0 } ^ { 2 ^ { n_{l} } - 1 } \\alpha _ { l | j } |l\\rangle_{n_{l}} \\right)|u_{j}\\rangle_{n_{b}},\n",
    "$$\n",
    "です。ここで、\n",
    "$$\n",
    "\\alpha _ { l | j } = \\frac { 1 } { 2 ^ { n_{l} } } \\sum _ { k = 0 } ^ { 2^{n_{l}}- 1 } \\left( e ^ { 2 \\pi i \\left( \\frac { \\lambda _ { j } t } { 2 \\pi } - \\frac { l } { 2 ^ { n_{l} } } \\right) } \\right) ^ { k }.\n",
    "$$\n",
    "\n",
    "$\\tilde{\\lambda_{j}}$ で表されているのは $\\lambda_{j}$, $1\\leq j\\leq N$ に対する ベストな $n_{l}$ビット近似です。次に、$n_{l}$-レジスターを再ラベルし、$\\alpha _ { l | j }$ が $|l + \\tilde { \\lambda } _ { j } \\rangle_{n_{l}}$ の振幅を表すようにします。そうすると、以下のように変形できます。\n",
    "$$\n",
    "\\alpha _ { l | j } : = \\frac { 1 } { 2 ^ { n_{l}} } \\sum _ { k = 0 } ^ { 2 ^ { n_{l} } - 1 } \\left( e ^ { 2 \\pi i \\left( \\frac { \\lambda _ { j } t } { 2 \\pi } - \\frac { l + \\tilde { \\lambda } _ { j } } { 2 ^ { n_{l} } } \\right) } \\right) ^ { k }.\n",
    "$$\n",
    "各 $\\frac { \\lambda _ { j } t } { 2 \\pi }$ が $n_{l}$ binary bits バイナリビットで正確に表現できる場合には、$\\frac { \\lambda _ { j } t } { 2 \\pi }=\\frac { \\tilde { \\lambda } _ { j } } { 2 ^ { n_{l} } }$ $\\forall j$ となります。従って、$\\forall j$, $1\\leq j \\leq N$　の場合は、 $\\alpha _ { 0 | j } = 1$ と $\\alpha _ { l | j } = 0 \\quad \\forall l \\neq 0$ を保持します。この場合のみ、QPE を適用した後のレジスターの状態を次のように書けます。\n",
    "$$\n",
    "\t\\sum_{j=0}^{N-1} b _ { j } |\\lambda _ {j }\\rangle_{n_{l}} |u_{j}\\rangle_{n_{b}}.\n",
    "$$\n",
    "それ以外の場合は、 $|\\alpha _ { l | j }|$ は $\\frac { \\lambda _ { j } t } { 2 \\pi } \\approx \\frac { l + \\tilde { \\lambda } _ { j } } { 2 ^ { n_{l} } }$ の場合のみ大きく、レジスターの状態は次のようになります。\n",
    "$$\n",
    "\\sum _ { j=0 }^{N-1}  \\sum _ { l = 0 } ^ { 2 ^ { n_{l} } - 1 } \\alpha _ { l | j } b _ { j }|l\\rangle_{n_{l}} |u_{j}\\rangle_{n_{b}}.\n",
    "$$"
   ]
  },
  {
   "cell_type": "markdown",
   "metadata": {},
   "source": [
    "## 3. 例: 4量子ビット HHL<a id='example1'></a>\n",
    "\n",
    "はじめにのセクションで紹介した小さな例をとってアルゴリズムを説明しましょう。こうでした。\n",
    "$$A = \\begin{pmatrix}1 & -1/3\\\\-1/3 & 1 \\end{pmatrix}\\quad \\text{and} \\quad |b\\rangle=\\begin{pmatrix}1 \\\\ 0\\end{pmatrix}.$$\n",
    "\n",
    "$|b\\rangle$ には $n_{b}=1$ 量子ビットを利用し、ソリューション $|x\\rangle$ には、$n_{l}=2$ 量子ビットを固有値のバイナリ表現を利用し、$1$ アンシラ量子ビットを制御回転に利用します。このようにするとアルゴリズムが成功します。\n",
    "\n",
    "アルゴリズムの例示のため、少しごまかして $A$ の固有値を計算して、$n_{l}$-レジスターの再スケールされた固有値の正確なバイナリ表現を得るために、 $t$ を選択できるようにします。なお、HHL アルゴリズムの実装には固有値の事前知識は必要ないことは心に留めてください。とは言ったものの、簡単に計算すると、\n",
    "$$\\lambda_{1} = 2/3\\quad\\text{と}\\quad\\lambda_{2}=4/3.$$\n",
    "が得られます。\n",
    "\n",
    "前のセクションを思い出すと、 QPE は $\\frac{\\lambda_ { j }t}{2\\pi}$ に対する $n_{l}$ビット (この例では $2$ビット) バイナリ近似を出力するものでした。従って、 \n",
    "$$t=2\\pi\\cdot \\frac{3}{8},$$\n",
    "を設定すると、QPE は\n",
    "$$\\frac{\\lambda_ { 1 }t}{2\\pi} = 1/4\\quad\\text{と}\\quad\\frac{\\lambda_ { 2 }t}{2\\pi}=1/2,$$\n",
    "への$2$ビットバイナリ近似を与えます。これらはそれぞれ、\n",
    "$$|01\\rangle_{n_{l}}\\quad\\text{と}\\quad|10\\rangle_{n_{l}}.$$\n",
    "に対応します。\n",
    "\n",
    "固有ベクトルはそれぞれ、\n",
    "$$|u_{1}\\rangle=\\begin{pmatrix}1 \\\\ -1\\end{pmatrix}\\quad\\text{and}\\quad|u_{2}\\rangle=\\begin{pmatrix}1 \\\\ 1\\end{pmatrix}.$$\n",
    "再度、HHL の実装には固有ベクトルの計算は必要ないことを心に銘記してください。事実、$N$ 次元の一般的なエルミート行列 $A$ は $N$ この異なる固有値を持つことがあり、従って計算には $\\mathcal{O}(N)$ 時間かかるので、量子アドバンテージが失われてしまいます。\n",
    "\n",
    "次に、$A$ の固有基底で $|b\\rangle$ が次のように書けます。\n",
    "$$|b\\rangle _{n_{b}}=\\sum_{j=0}^{N-1}\\frac{1}{\\sqrt{2}}|u_{j}\\rangle _{n_{b}}.$$\n",
    "\n",
    "ここで、HHL アルゴリズムを適用する準備が整いましたので、ひとつひとつ見ていきます。\n",
    "\n",
    "1. この例における初期状態準備は簡単です。 $|b\\rangle=|0\\rangle$。\n",
    "2. QPE を適用します。\n",
    "$$\n",
    "\\frac{1}{\\sqrt{2}}|01\\rangle|u_{1}\\rangle + \\frac{1}{\\sqrt{2}}|10\\rangle|u_{2}\\rangle.\n",
    "$$\n",
    "3. 固有値を再スケールした結果を補うため $C=3/8$ で制御回転させます。\n",
    "$$\\frac{1}{\\sqrt{2}}|01\\rangle|u_{1}\\rangle\\left( \\sqrt { 1 - \\frac { (3/8)^{2}  } {(1/4)^{2} } } |0\\rangle + \\frac { 3/8 } { 1/4 } |1\\rangle \\right) + \\frac{1}{\\sqrt{2}}|10\\rangle|u_{2}\\rangle\\left( \\sqrt { 1 - \\frac { (3/8)^{2}  } {(1/2)^{2} } } |0\\rangle + \\frac { 3/8 } { 1/2 } |1\\rangle \\right)\n",
    "$$\n",
    "$$\n",
    "=\\frac{1}{\\sqrt{2}}|01\\rangle|u_{1}\\rangle\\left( \\sqrt { 1 - \\frac { 9  } {4 } } |0\\rangle + \\frac { 3 } { 2 } |1\\rangle \\right) + \\frac{1}{\\sqrt{2}}|10\\rangle|u_{2}\\rangle\\left( \\sqrt { 1 - \\frac { 9  } {16 } } |0\\rangle + \\frac { 3 } { 4 } |1\\rangle \\right).\n",
    "$$\n",
    "4. QPE$^{\\dagger}$ を量子コンピューターで適用した後は、次の状態になります。\n",
    "$$\n",
    "\\frac{1}{\\sqrt{2}}|00\\rangle|u_{1}\\rangle\\left( \\sqrt { 1 - \\frac { 9  } {4 } } |0\\rangle + \\frac { 3 } { 2 } |1\\rangle \\right) + \\frac{1}{\\sqrt{2}}|00\\rangle|u_{2}\\rangle\\left( \\sqrt { 1 - \\frac { 9  } {16 } } |0\\rangle + \\frac { 3 } { 4 } |1\\rangle \\right).\n",
    "$$\n",
    "5. 補助ビットを計測し、$1$ が出た場合には状態は次のようになります。\n",
    "$$\n",
    "\\frac{\\frac{1}{\\sqrt{2}}|00\\rangle|u_{1}\\rangle\\frac { 3 } { 2 } |1\\rangle + \\frac{1}{\\sqrt{2}}|00\\rangle|u_{2}\\rangle\\frac { 3 } { 4 } |1\\rangle}{\\sqrt{45/32}}.\n",
    "$$\n",
    "簡単に計算すると：\n",
    "$$\n",
    "\\frac{\\frac{3}{2\\sqrt{2}}|u_{1}\\rangle+ \\frac{3}{4\\sqrt{2}}|u_{2}\\rangle}{\\sqrt{45/32}} = \\frac{|x\\rangle}{||x||}.\n",
    "$$\n",
    "6. 追加のゲートを利用しなくても、$|x\\rangle$ のノルムを計算できます、それは前のステップで補助ビットを $1$ で測定する確率になります。\n",
    "$$\n",
    "P[|1\\rangle] = \\left(\\frac{3}{2\\sqrt{2}}\\right)^{2} + \\left(\\frac{3}{4\\sqrt{2}}\\right)^{2} = \\frac{45}{32} = |||x\\rangle||^{2}.\n",
    "$$\n",
    "\n"
   ]
  },
  {
   "cell_type": "markdown",
   "metadata": {},
   "source": [
    "## 4. Qiskit 実装<a id='implementation'></a>"
   ]
  },
  {
   "cell_type": "markdown",
   "metadata": {},
   "source": [
    "例を利用して問題を分析的に解きましたが、HHL を量子シミュレーターと実ハードウェアで実行することを明示したいと思います。量子シミュレーターの場合は、Qiskit Aqua に行列$A$ と $|b\\rangle$ を基本入力として要求する HHL アルゴリズム実装が既に提供されています。主なアドバンテージは一般的なヘルミート行列と任意の初期状態を入力することができる点です。これが意味することはアルゴリズムは一般の目的のために設計されており、特定の問題のための回路の最適化は実施しないことで、既存の実ハードウェア実行することが目的の場合には問題が生じます。この章を記述している時点で、既存の量子コンピューターはノイズがあり、小さな回路しか実行できません。そのため、セクション[4.B.](#implementationdev)では、例が帰属する問題のクラスに利用できる最適化された回路を見ることにし、ノイズのある量子コンピューターでの扱いについて既存の処理方法を言及します。"
   ]
  },
  {
   "cell_type": "markdown",
   "metadata": {},
   "source": [
    "## A. HHL をシミュレーターで実行する: 一般的な方法<a id='implementationsim'></a>"
   ]
  },
  {
   "cell_type": "markdown",
   "metadata": {},
   "source": [
    "Qiskit Aqua が提供する HHL アルゴリズムを実行するには、適切なモジュールをインポートし以下のようにパラメータをセットするだけです。いままで見てきた例では、ハミルトニアンシミュレーションの時間を $t=2\\pi\\cdot \\frac{3}{8}$ にセットしましたが、固有値の知識が必要ないことを示すためこのパラメータをセットしないでシミュレーションを実行してみます。それにも関わらず、行列のある構造がある場合には、固有値情報を得て適切な $t$ を選択し HHLが返すソリューションの精度を向上させることができるかも知れません。これは演習とします。 $t=2\\pi\\cdot \\frac{3}{8}$ をセットします。正常に実行されると、ソリューションのフィデリティーは $1$ になります。（ヒント：:,sƃıǝ, uıɥʇıʍ ɹǝʇǝɯɐɹɐd ,ǝɯıʇ‾oʌǝ, ǝɥʇ ʇǝs ）。"
   ]
  },
  {
   "cell_type": "code",
   "execution_count": 1,
   "metadata": {},
   "outputs": [],
   "source": [
    "from qiskit.aqua import run_algorithm\n",
    "from qiskit.aqua.input import LinearSystemInput\n",
    "from qiskit.quantum_info import state_fidelity\n",
    "from qiskit.aqua.algorithms.classical import ExactLSsolver\n",
    "import numpy as np"
   ]
  },
  {
   "cell_type": "code",
   "execution_count": 2,
   "metadata": {},
   "outputs": [],
   "source": [
    "params = {\n",
    "    'problem': {\n",
    "        'name': 'linear_system'\n",
    "    },\n",
    "    'algorithm': {\n",
    "        'name': 'HHL'\n",
    "    },\n",
    "    'eigs': {\n",
    "        'expansion_mode': 'suzuki',\n",
    "        'expansion_order': 1,\n",
    "        'name': 'EigsQPE',\n",
    "        'num_ancillae': 3,\n",
    "        'num_time_slices': 1\n",
    "    },\n",
    "    'reciprocal': {\n",
    "        'name': 'Lookup'\n",
    "    },\n",
    "    'backend': {\n",
    "        'provider': 'qiskit.BasicAer',\n",
    "        'name': 'statevector_simulator'\n",
    "    }\n",
    "}"
   ]
  },
  {
   "cell_type": "markdown",
   "metadata": {},
   "source": [
    "次の関数を使って HHL アルゴリズムが返したソリューションのフィデリティーを計算します。\n"
   ]
  },
  {
   "cell_type": "code",
   "execution_count": 3,
   "metadata": {},
   "outputs": [],
   "source": [
    "def fidelity(hhl, ref):\n",
    "    solution_hhl_normed = hhl / np.linalg.norm(hhl)\n",
    "    solution_ref_normed = ref / np.linalg.norm(ref)\n",
    "    fidelity = state_fidelity(solution_hhl_normed, solution_ref_normed)\n",
    "    print(\"fidelity %f\" % fidelity)"
   ]
  },
  {
   "cell_type": "code",
   "execution_count": 4,
   "metadata": {},
   "outputs": [],
   "source": [
    "matrix = [[1, -1/3], [-1/3, 1]]\n",
    "vector = [1, 0]\n",
    "params['input'] = {\n",
    "    'name': 'LinearSystemInput',\n",
    "    'matrix': matrix,\n",
    "    'vector': vector\n",
    "}"
   ]
  },
  {
   "cell_type": "markdown",
   "metadata": {},
   "source": [
    "$t=2\\pi\\cdot \\frac{3}{8}$ を選択した理由は固有値を再スケールさせるためでした。今はこの場合に当てはまらないので、表現は近似になり、QPE は非正確で結果のソリューションも近似になります。"
   ]
  },
  {
   "cell_type": "code",
   "execution_count": 5,
   "metadata": {},
   "outputs": [
    {
     "name": "stdout",
     "output_type": "stream",
     "text": [
      "solution  [1.13586+0.j 0.40896+0.j]\n",
      "classical solution  [1.125 0.375]\n",
      "probability 0.056291\n",
      "fidelity 0.999432\n"
     ]
    }
   ],
   "source": [
    "result = run_algorithm(params)\n",
    "print(\"solution \", np.round(result['solution'], 5))\n",
    "\n",
    "result_ref = ExactLSsolver(matrix, vector).run()\n",
    "print(\"classical solution \", np.round(result_ref['solution'], 5))\n",
    "\n",
    "print(\"probability %f\" % result['probability_result'])\n",
    "fidelity(result['solution'], result_ref['solution'])"
   ]
  },
  {
   "cell_type": "markdown",
   "metadata": {},
   "source": [
    "アルゴリズムは利用したリソースを出力します。depth は単一量子ビットに適用されたゲート数の最大値で、width は利用した量子ビットの数として定義されます。また、CNOT の数も出力してみます。この数をもちいて、実行している回路が現在の実ハードウェアで実行することができるかを判断することができます。"
   ]
  },
  {
   "cell_type": "code",
   "execution_count": 6,
   "metadata": {},
   "outputs": [
    {
     "name": "stdout",
     "output_type": "stream",
     "text": [
      "circuit_width 7\n",
      "circuit_depth 326\n",
      "CNOT gates 174\n"
     ]
    }
   ],
   "source": [
    "print(\"circuit_width\", result['circuit_info']['width'])\n",
    "print(\"circuit_depth\", result['circuit_info']['depth'])\n",
    "print(\"CNOT gates\", result['circuit_info']['operations']['cx'])"
   ]
  },
  {
   "cell_type": "markdown",
   "metadata": {},
   "source": [
    "## B. HHL を実量子デバイスで実行する：最適化例<a id='implementationdev'></a>"
   ]
  },
  {
   "cell_type": "markdown",
   "metadata": {},
   "source": [
    "前のセクションでは Qiskit が提供する標準のアルゴリズムを実行し、$7$ 量子ビットを利用し、depth が $326$ ゲートで、かつ $174$ CNOTゲートを利用しているのを見ました。この数は現在利用可能なハードウェアで実行するには不適切で、量を減らす必要があります。特にゴールは単一量子ゲートに比べフィデリティーが悪化する CNOTの数を $10$ のファクターで減らすことです。さらに量子ビットの数を $4$ にします。これはもともとの問題での数です。Qiskit の方法は一般的な問題のために書かれているため、余分な $3$ 補助量子ビットが追加されました。\n",
    "\n",
    "ところが、単純にゲートや量子ビットの数を減らすだけでは実ハードウェア上のソリューションとしてよい近似が出てきません。二つのエラーソースが原因です：実行時に発生するものと読み取りエラーです。\n",
    "\n",
    "Qiskit には、個別に全ての基底状態を準備測定することで読み取りエラーを回避するモジュールが提供されています。このトピックの詳細は  Dewes et al.<sup>[3](#readouterr)</sup> を参照してください。回路の実行時に発生するエラーを取り扱うために、回路を３回実行し、それぞれ CNOTゲートを $1$, $3$, $5$ CNOT で置き換えるという Richardson 外挿を利用します<sup>[4](#richardson)</sup>。\n",
    "\n",
    "理論的には３つの回路は同じ結果をもたらしますが、実ハードウェアでは CNOT を追加するということはエラーを増幅することになるというアイデアに基づきます。得られた結果がエラーが増幅したことによるということを知るので、それぞれの場合でどの程度エラーが増幅したのかを推定できます。これらの量を組み合わせることで、前の詳細な値よりも解析解により近い近似値をだすあたらしい結果を得ることができます。\n",
    "\n",
    "以下はどのようなフォームの問題でも利用できる最適化された回路です。\n",
    "$$A = \\begin{pmatrix}a & b\\\\b & a \\end{pmatrix}\\quad \\text{and} \\quad |b\\rangle=\\begin{pmatrix}\\cos(\\theta) \\\\ \\sin(\\theta)\\end{pmatrix},\\quad ,a,b,\\theta\\in\\mathbb{R}.$$\n",
    "\n",
    "以下の最適化は HHL for tridiagonal symmetric matrices<sup>[5](#tridi)</sup> での結果から引用したもので、特に回路は UniversalQCompiler software<sup>[6](#qcompiler)</sup> の助けを借りて導出しました。"
   ]
  },
  {
   "cell_type": "code",
   "execution_count": null,
   "metadata": {},
   "outputs": [],
   "source": [
    "from qiskit import QuantumRegister, ClassicalRegister, QuantumCircuit\n",
    "import numpy as np\n",
    "\n",
    "nqubits = 4 # Total number of qubits\n",
    "nb = 1 # Number of qubits representing the solution\n",
    "nl = 2 # Number of qubits representing the eigenvalues\n",
    "\n",
    "theta = 0 # Angle defining |b>\n",
    "\n",
    "a = 1 # Matrix diagonal\n",
    "b = -1/3 # Matrix off-diagonal\n",
    "\n",
    "# Initialise the quantum registers\n",
    "qr = QuantumRegister(nqubits)\n",
    "\n",
    "# Initialise the classical register\n",
    "cr = ClassicalRegister(nqubits)\n",
    "\n",
    "# Create a Quantum Circuit\n",
    "qc = QuantumCircuit(qr, cr)\n",
    "\n",
    "qrb = qr[0:nb]\n",
    "qrl = qr[nb:nb+nl]\n",
    "qra = qr[nb+nl:nb+nl+1]\n",
    "\n",
    "# State preparation. \n",
    "qc.ry(2*theta, qrb[0])\n",
    "    \n",
    "# QPE with e^{iAt}\n",
    "for qu in qrl:\n",
    "    qc.h(qu)\n",
    "\n",
    "qc.u1(a*t, qrl[0])\n",
    "qc.u1(a*t*2, qrl[1])\n",
    "\n",
    "qc.u3(b*t/m, -np.pi/2, np.pi/2, qrb[0])\n",
    "\n",
    "\n",
    "# Controlled e^{iAt} on \\lambda_{1}:\n",
    "params=b*t/m\n",
    "\n",
    "qc.u1(np.pi/2,qrb[0])\n",
    "qc.cx(qrl[0],qrb[0])\n",
    "qc.ry(params,qrb[0])\n",
    "qc.cx(qrl[0],qrb[0])\n",
    "qc.ry(-params,qrb[0])\n",
    "qc.u1(3*np.pi/2,qrb[0])\n",
    "\n",
    "# Controlled e^{2iAt} on \\lambda_{2}:\n",
    "params = b*t*2/m\n",
    "\n",
    "qc.u1(np.pi/2,qrb[0])\n",
    "qc.cx(qrl[1],qrb[0])\n",
    "qc.ry(params,qrb[0])\n",
    "qc.cx(qrl[1],qrb[0])\n",
    "qc.ry(-params,qrb[0])\n",
    "qc.u1(3*np.pi/2,qrb[0])\n",
    "\n",
    "# Inverse QFT\n",
    "qc.h(qrl[1])\n",
    "qc.rz(-np.pi/4,qrl[1])\n",
    "qc.cx(qrl[0],qrl[1])\n",
    "qc.rz(np.pi/4,qrl[1])\n",
    "qc.cx(qrl[0],qrl[1])\n",
    "qc.rz(-np.pi/4,qrl[0])\n",
    "qc.h(qrl[0])\n",
    "\n",
    "# Eigenvalue rotation\n",
    "t1=(-np.pi +np.pi/3 - 2*np.arcsin(1/3))/4\n",
    "t2=(-np.pi -np.pi/3 + 2*np.arcsin(1/3))/4\n",
    "t3=(np.pi -np.pi/3 - 2*np.arcsin(1/3))/4\n",
    "t4=(np.pi +np.pi/3 + 2*np.arcsin(1/3))/4\n",
    "\n",
    "qc.cx(qrl[1],qra[0])\n",
    "qc.ry(t1,qra[0])\n",
    "qc.cx(qrl[0],qra[0])\n",
    "qc.ry(t2,qra[0])\n",
    "qc.cx(qrl[1],qra[0])\n",
    "qc.ry(t3,qra[0])\n",
    "qc.cx(qrl[0],qra[0])\n",
    "qc.ry(t4,qra[0])\n"
   ]
  },
  {
   "cell_type": "markdown",
   "metadata": {},
   "source": [
    "以下のコードでは回路、実ハードウェアのバックエンド、及び利用したい量子ビットのセットを入力とし、特定のデバイスで実行した結果とインスタンス情報を出力します。\n",
    "\n",
    "実デバイスは定期的にキャリブレーションが必要なため、時間によっては特定の量子ビットもしくはゲートのフィデリティーが異なります。さらには、異なるチップは異なる接続性を持ちます。特定のデバイスで接続されていない２つの量子ビットゲートを実行する時には、トランスパイラーは SWAP を追加します。ですので、実行する前に、特定の時間で正しい接続性をもつかエラー率が低いかを IBM Q Experience Webページ<sup>[7](#qexperience)</sup> で確認することを推奨します。"
   ]
  },
  {
   "cell_type": "code",
   "execution_count": null,
   "metadata": {},
   "outputs": [],
   "source": [
    "from qiskit import execute, BasicAer, ClassicalRegister, IBMQ\n",
    "from qiskit.compiler import transpile\n",
    "from qiskit.ignis.mitigation.measurement import (complete_meas_cal, # Measurement error mitigation functions\n",
    "                                                 CompleteMeasFitter, \n",
    "                                                 MeasurementFilter)\n",
    "\n",
    "IBMQ.load_accounts()\n",
    "\n",
    "backend = IBMQ.get_backend('ibmqx2') # calibrate using real hardware\n",
    "layout = [2,3,0,4]\n",
    "chip_qubits = 5\n",
    "\n",
    "# Transpiled circuit for the real hardware\n",
    "qc_qa_c = transpile(qc, backend=ibmq_backend, initial_layout=layout)"
   ]
  },
  {
   "cell_type": "markdown",
   "metadata": {},
   "source": [
    "次のステップでは読み取りエラーを回避するための回路を追加しています<sup>[3](#readouterr)</sup>。"
   ]
  },
  {
   "cell_type": "code",
   "execution_count": null,
   "metadata": {},
   "outputs": [],
   "source": [
    "meas_cals, state_labels = complete_meas_cal(qubit_list=layout, qr=QuantumRegister(chip_qubits))\n",
    "\n",
    "#  The following are the circuits that were obtained after replacing each CNOT by 1, 3 and 5 CNOTs respectively\n",
    "circuits = [qc_qa_c, qc_qa_3cx, qc_qa_5cx]\n",
    "\n",
    "qcs = meas_cals + circuits\n",
    "\n",
    "job = qiskit.execute(meas_cals + circuits, backend=backend, shots=shots, optimization_level=None)"
   ]
  },
  {
   "cell_type": "markdown",
   "metadata": {},
   "source": [
    "次のプロットは <sup>[5](#tridi)</sup> 上記の回路を $10$ の異なる初期状態から実行して得られた結果を示しています。$x$軸は各々の場合の初期状態で定義される $\\theta$ 角です。結果は読み取りエラーを回避、$1$, $3$, $5$ の回路結果から得られたエラーを外挿した後の結果を表示しています。 \n",
    "\n",
    "<img src=\"images/norm_public.png\">\n",
    "\n",
    "以下はエラー回避や CNOT からの外挿がない場合の比較です <sup>[5](#tridi)</sup>。\n",
    "\n",
    "<img src=\"images/noerrmit_public.png\">"
   ]
  },
  {
   "cell_type": "markdown",
   "metadata": {},
   "source": [
    "## 8. 演習<a id='problems'></a>"
   ]
  },
  {
   "cell_type": "markdown",
   "metadata": {},
   "source": [
    "1.  'evo_time': $2\\pi(3/8)$ でシミュレーションを実行する。フィデリティーが $1$ となることを確認せよ。\n",
    "\n",
    "    ##### 実ハードウェア:\n",
    "2. 最適化された例で時間のパラメータをセットする。(ヒント: uoᴉʇnlos ǝɥʇ uᴉ uoᴉʇnqᴉɹʇuoɔ ʇsǝƃɹɐl ǝɥʇ ǝʌɐɥ llᴉʍ ǝsɹǝʌuᴉ sʇᴉ ǝɔuᴉs ʎlʇɔɐxǝ pǝʇuǝsǝɹdǝɹ ǝq uɐɔ ǝnlɐʌuǝƃᴉǝ ʇsǝllɐɯs ǝɥʇ ʇɐɥʇ os ʇᴉ ʇǝs oʇ sᴉ ʇlnsǝɹ ʇsǝq ǝɥʇ. Solution:߈߈Ɛᘔ6⇂06߈߈6⇂95Ɛ˙ᘔ = ʇ )\n",
    "2. 与えられた回路で $3$ と $5$ CNOTs を実行する。回路を作成する時には引き続く CNOT ゲートが transpile() メソッドでキャンセルされないようにバリアを追加する必要がある。\n",
    "3. 実ハードウェアで回路を実行し、結果に対して２次フィットを適用し外挿の値を求めよ。"
   ]
  },
  {
   "cell_type": "markdown",
   "metadata": {},
   "source": [
    "## 9. 参考文献<a id='references'></a>"
   ]
  },
  {
   "cell_type": "markdown",
   "metadata": {},
   "source": [
    "1. J. R. Shewchuk. An Introduction to the Conjugate Gradient Method Without the Agonizing Pain. Technical Report CMU-CS-94-125, School of Computer Science, Carnegie Mellon University, Pittsburgh, Pennsylvania, March 1994.<a id='conjgrad'></a> \n",
    "2. A. W. Harrow, A. Hassidim, and S. Lloyd, “Quantum algorithm for linear systems of equations,” Phys. Rev. Lett. 103.15 (2009), p. 150502.<a id='hhl'></a>\n",
    "3. A. Dewes, F. R. Ong, V. Schmitt, R. Lauro, N. Boulant, P. Bertet, D. Vion, and D. Esteve, “Characterization of a two-transmon processor with individual single-shot qubit readout,” Phys. Rev. Lett. 108, 057002 (2012). <a id='readouterr'></a>\n",
    "4. N. Stamatopoulos, D. J. Egger, Y. Sun, C. Zoufal, R. Iten, N. Shen, and S. Woerner, “Option Pricing using Quantum Computers,” arXiv:1905.02666 . <a id='richardson'></a>\n",
    "5. A. Carrera Vazquez, A. Frisch, D. Steenken, H. S. Barowski, R. Hiptmair, and S. Woerner, “Enhancing Quantum Linear System Algorithm by Richardson Extrapolation,” (to be included).<a id='tridi'></a>\n",
    "6. R. Iten, O. Reardon-Smith, L. Mondada, E. Redmond, R. Singh Kohli, R. Colbeck, “Introduction to UniversalQCompiler,” arXiv:1904.01072 .<a id='qcompiler'></a>\n",
    "7. https://quantum-computing.ibm.com/ .<a id='qexperience'></a>"
   ]
  },
  {
   "cell_type": "code",
   "execution_count": null,
   "metadata": {},
   "outputs": [],
   "source": []
  },
  {
   "cell_type": "code",
   "execution_count": null,
   "metadata": {},
   "outputs": [],
   "source": []
  }
 ],
 "metadata": {
  "kernelspec": {
   "display_name": "Python 3",
   "language": "python",
   "name": "python3"
  },
  "language_info": {
   "codemirror_mode": {
    "name": "ipython",
    "version": 3
   },
   "file_extension": ".py",
   "mimetype": "text/x-python",
   "name": "python",
   "nbconvert_exporter": "python",
   "pygments_lexer": "ipython3",
   "version": "3.7.3"
  }
 },
 "nbformat": 4,
 "nbformat_minor": 2
}
