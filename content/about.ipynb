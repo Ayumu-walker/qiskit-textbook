{
 "cells": [
  {
   "cell_type": "markdown",
   "metadata": {},
   "source": [
    "## 連絡先\n",
    "\n",
    "この教科書に質問・提案がある方、また、あなたの学校のカリキュラムに取り入れたい方は、Abraham Asfaw ([abraham.asfaw@ibm.com](mailto:abraham.asfaw@ibm.com)) にコンタクトしてください。オープンソースの精神に基づき、あらゆる章への貢献を[このGitHubリポジトリー](https://github.com/Qiskit/qiskit-textbook)にてお待ちしています。\n",
    "\n",
    "## 貢献者（アルファベット順）\n",
    "\n",
    "**Qiskit を使った量子計算の学習** は複数の著者による合作です。ご自身の仕事で使用する場合は、この[bibファイル](qiskit-textbook.bib)を使用して引用するか、次を直接引用してください："
   ]
  },
  {
   "cell_type": "markdown",
   "metadata": {},
   "source": [
    "> Abraham Asfaw, Luciano Bello, Yael Ben-Haim, Sergey Bravyi, Lauren Capelluto, Almudena Carrera Vazquez, Jack Ceroni,  Richard Chen, Albert Frisch, Jay Gambetta, Shelly Garion, Leron Gil, Salvador De La Puente Gonzalez, Francis Harkins, Takashi Imamichi, David McKay, Antonio Mezzacapo, Zlatko Minev, Ramis Movassagh, Giacomo Nannicni, Paul Nation,  Anna Phan, Marco Pistoia, Arthur Rattew, Joachim Schaefer, Javad Shabani, John Smolin, Kristan Temme, Madeleine Tod, Stephen Wood, James Wootton."
   ]
  },
  {
   "cell_type": "code",
   "execution_count": null,
   "metadata": {},
   "outputs": [],
   "source": []
  }
 ],
 "metadata": {
  "kernelspec": {
   "display_name": "Python 3",
   "language": "python",
   "name": "python3"
  },
  "language_info": {
   "codemirror_mode": {
    "name": "ipython",
    "version": 3
   },
   "file_extension": ".py",
   "mimetype": "text/x-python",
   "name": "python",
   "nbconvert_exporter": "python",
   "pygments_lexer": "ipython3",
   "version": "3.7.4"
  }
 },
 "nbformat": 4,
 "nbformat_minor": 4
}
